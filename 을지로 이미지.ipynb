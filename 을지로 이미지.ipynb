{
 "cells": [
  {
   "cell_type": "code",
   "execution_count": 16,
   "metadata": {},
   "outputs": [],
   "source": [
    "from urllib.request import urlopen\n",
    "from urllib.parse import quote_plus\n",
    "from bs4 import BeautifulSoup\n",
    "from selenium import webdriver\n",
    "import time"
   ]
  },
  {
   "cell_type": "code",
   "execution_count": 17,
   "metadata": {},
   "outputs": [
    {
     "name": "stdout",
     "output_type": "stream",
     "text": [
      "검색할 태그를 입력하세요 : 힙지로\n",
      "https://www.instagram.com/explore/tags/%ED%9E%99%EC%A7%80%EB%A1%9C\n"
     ]
    }
   ],
   "source": [
    "base_url = 'https://www.instagram.com/explore/tags/'\n",
    "plus_url = input('검색할 태그를 입력하세요 : ')\n",
    "url = base_url + quote_plus(plus_url)\n",
    "print(url)"
   ]
  },
  {
   "cell_type": "code",
   "execution_count": 26,
   "metadata": {},
   "outputs": [
    {
     "name": "stdout",
     "output_type": "stream",
     "text": [
      "https://www.instagram.com/p/CEjQ_v9n40E/\n",
      "https://scontent-ssn1-1.cdninstagram.com/v/t51.2885-15/sh0.08/e35/c0.180.1440.1440a/s640x640/118518291_2674996066075343_2852310460603311950_n.jpg?_nc_ht=scontent-ssn1-1.cdninstagram.com&_nc_cat=111&_nc_ohc=-MPYBMpb6LIAX-po84B&oh=9171250b1f777d9de3b7bd66f6b0fa9d&oe=5F77C007\n",
      "\n",
      "https://www.instagram.com/p/CElR-R_FjCq/\n",
      "https://scontent-ssn1-1.cdninstagram.com/v/t51.2885-15/sh0.08/e35/c0.180.1440.1440a/s640x640/118708067_1171685893187362_418288805630653878_n.jpg?_nc_ht=scontent-ssn1-1.cdninstagram.com&_nc_cat=110&_nc_ohc=us6bCM-vNEYAX93MGth&oh=5eaec39aba23933c5790dfb7a2e9fba9&oe=5F77C391\n",
      "\n",
      "https://www.instagram.com/p/CElT-4_pMa2/\n",
      "https://scontent-ssn1-1.cdninstagram.com/v/t51.2885-15/sh0.08/e35/s640x640/118579297_652472302041741_3600947050376976875_n.jpg?_nc_ht=scontent-ssn1-1.cdninstagram.com&_nc_cat=109&_nc_ohc=vF2Pr0i3vXAAX9lnMd-&oh=1f48270a5120e0fcb0db62dcdd88ad86&oe=5F79CDA1\n",
      "\n",
      "https://www.instagram.com/p/CEn3uE9nL7_/\n",
      "https://scontent-ssn1-1.cdninstagram.com/v/t51.2885-15/sh0.08/e35/s640x640/118726753_2734070016882431_2763525090837310061_n.jpg?_nc_ht=scontent-ssn1-1.cdninstagram.com&_nc_cat=111&_nc_ohc=8jiSnr4yFREAX_Sy-zH&oh=57ee8df774d17f17c3b55205c8aaaf5f&oe=5F78C759\n",
      "\n",
      "https://www.instagram.com/p/CEjEtWznWq3/\n",
      "https://scontent-ssn1-1.cdninstagram.com/v/t51.2885-15/sh0.08/e35/s640x640/118563546_190228505821202_6713464671246917389_n.jpg?_nc_ht=scontent-ssn1-1.cdninstagram.com&_nc_cat=102&_nc_ohc=cphK3WubLEEAX-h24_J&oh=8f6f4284ddb7a1c7e1c5a543c0960df6&oe=5F51E551\n",
      "\n",
      "https://www.instagram.com/p/CEnrPa_MKtV/\n",
      "https://scontent-ssn1-1.cdninstagram.com/v/t51.2885-15/sh0.08/e35/c243.0.954.954a/s640x640/118667358_423083435340215_656868976410026270_n.jpg?_nc_ht=scontent-ssn1-1.cdninstagram.com&_nc_cat=111&_nc_ohc=0UZBfnoK424AX__6Z9l&oh=d733ebc5631f78cca777881608a6e6ba&oe=5F77D852\n",
      "\n",
      "https://www.instagram.com/p/CEg_NtRHICr/\n",
      "https://scontent-ssn1-1.cdninstagram.com/v/t51.2885-15/sh0.08/e35/s640x640/118597451_350016033041927_6841335120240562341_n.jpg?_nc_ht=scontent-ssn1-1.cdninstagram.com&_nc_cat=111&_nc_ohc=rNoAtZbu_qwAX9sCSzx&oh=512a26609e8740a79400b9cf49b39474&oe=5F797B95\n",
      "\n",
      "https://www.instagram.com/p/CElJRkalvXU/\n",
      "https://scontent-ssn1-1.cdninstagram.com/v/t51.2885-15/sh0.08/e35/s640x640/118686640_360444174976539_6950276770807381550_n.jpg?_nc_ht=scontent-ssn1-1.cdninstagram.com&_nc_cat=103&_nc_ohc=3ZtVg9a1dzUAX-d_sA2&oh=6cb8641d138dc6c19cddaa8f05dc0ead&oe=5F7A9D56\n",
      "\n",
      "https://www.instagram.com/p/CEVnEzdHFRp/\n",
      "https://scontent-ssn1-1.cdninstagram.com/v/t51.2885-15/sh0.08/e35/c0.180.1440.1440a/s640x640/118324160_800813293996611_581166024202722049_n.jpg?_nc_ht=scontent-ssn1-1.cdninstagram.com&_nc_cat=103&_nc_ohc=meIekwonlqYAX98i2h3&oh=f2cf44d9d7b21a948649da81fe7a9533&oe=5F7AEDAE\n",
      "\n",
      "https://www.instagram.com/p/CEogj4LH5ww/\n",
      "https://scontent-ssn1-1.cdninstagram.com/v/t51.2885-15/sh0.08/e35/c0.180.1440.1440a/s640x640/118702245_352119052628680_7393429387693105351_n.jpg?_nc_ht=scontent-ssn1-1.cdninstagram.com&_nc_cat=104&_nc_ohc=dfTIg5N_u_4AX_6-kl_&oh=feade6104ac32a551abd7cab891b0163&oe=5F799E81\n",
      "\n",
      "https://www.instagram.com/p/CEoggnbFnTm/\n",
      "https://scontent-ssn1-1.cdninstagram.com/v/t51.2885-15/sh0.08/e35/s640x640/118528806_3404177882938961_4770637091934878698_n.jpg?_nc_ht=scontent-ssn1-1.cdninstagram.com&_nc_cat=105&_nc_ohc=Z2cIlVHdXxAAX9BC1Ju&oh=9c8136c0afe43c0642ea815200d013b5&oe=5F7A88E0\n",
      "\n",
      "https://www.instagram.com/p/CEof0uvBmum/\n",
      "https://scontent-ssn1-1.cdninstagram.com/v/t51.2885-15/sh0.08/e35/s640x640/118708901_4286606178078170_7541744389632150075_n.jpg?_nc_ht=scontent-ssn1-1.cdninstagram.com&_nc_cat=102&_nc_ohc=Dcde_kaq7ZsAX-f57z_&oh=b0fb8a819e72661a99a45a4b220650f4&oe=5F7A72CA\n",
      "\n",
      "https://www.instagram.com/p/CEofnlxHrzU/\n",
      "https://scontent-ssn1-1.cdninstagram.com/v/t51.2885-15/sh0.08/e35/s640x640/118650641_933814343770289_7928170728543118309_n.jpg?_nc_ht=scontent-ssn1-1.cdninstagram.com&_nc_cat=105&_nc_ohc=rzBeXXEDMt8AX-Fmskz&oh=42192086b16a919b7413fda39210d1e2&oe=5F7A398B\n",
      "\n",
      "https://www.instagram.com/p/CEoeotgs8Aw/\n",
      "https://scontent-ssn1-1.cdninstagram.com/v/t51.2885-15/sh0.08/e35/s640x640/118779525_145315283921232_5197608505482099196_n.jpg?_nc_ht=scontent-ssn1-1.cdninstagram.com&_nc_cat=100&_nc_ohc=RAfp1juNwxMAX_EIe2y&oh=b2be48d10e4128b569b29fa4ddbf370c&oe=5F788084\n",
      "\n",
      "https://www.instagram.com/p/CEocyH7DrhJ/\n",
      "https://scontent-ssn1-1.cdninstagram.com/v/t51.2885-15/sh0.08/e35/c0.180.1440.1440a/s640x640/118647577_967284727110044_2229551077163923926_n.jpg?_nc_ht=scontent-ssn1-1.cdninstagram.com&_nc_cat=108&_nc_ohc=DV2Mhk9iJ7kAX_Upwv4&oh=75144777f159278a0d190208b6c7780c&oe=5F79EE0B\n",
      "\n",
      "https://www.instagram.com/p/CEocSQngnv7/\n",
      "https://scontent-ssn1-1.cdninstagram.com/v/t51.2885-15/sh0.08/e35/s640x640/118599354_112244750495170_8672401967478293962_n.jpg?_nc_ht=scontent-ssn1-1.cdninstagram.com&_nc_cat=110&_nc_ohc=s5evyDXEPm8AX8IfIOT&oh=5b35e93f85a8465e3439e2c004fa5ab1&oe=5F77E19D\n",
      "\n",
      "https://www.instagram.com/p/CEoafc9l8RU/\n",
      "https://scontent-ssn1-1.cdninstagram.com/v/t51.2885-15/sh0.08/e35/s640x640/118630037_374903106845662_5400495049315751430_n.jpg?_nc_ht=scontent-ssn1-1.cdninstagram.com&_nc_cat=110&_nc_ohc=HSZkwowfVK4AX_MC-iA&oh=f138ac0a8150a1df8e95de3efeabc097&oe=5F79B067\n",
      "\n",
      "https://www.instagram.com/p/CEoZIyzFB6k/\n",
      "https://scontent-ssn1-1.cdninstagram.com/v/t51.2885-15/sh0.08/e35/s640x640/118648054_3263880030364234_5308938406627835222_n.jpg?_nc_ht=scontent-ssn1-1.cdninstagram.com&_nc_cat=110&_nc_ohc=Ge04j52VaigAX_GDDV_&oh=43c18bb2a6c125815d6b9a8f6d230bd4&oe=5F77B31A\n",
      "\n",
      "https://www.instagram.com/p/CEoZBEeB_wj/\n",
      "https://scontent-ssn1-1.cdninstagram.com/v/t51.2885-15/sh0.08/e35/s640x640/118777856_307472387152144_7667735647031896433_n.jpg?_nc_ht=scontent-ssn1-1.cdninstagram.com&_nc_cat=104&_nc_ohc=miSbWwqgAW4AX9MJtg7&oh=03a350120c7f645b21a8a045031de853&oe=5F797A92\n",
      "\n",
      "https://www.instagram.com/p/CEoX1YkJaWT/\n",
      "https://scontent-ssn1-1.cdninstagram.com/v/t51.2885-15/sh0.08/e35/s640x640/118674161_678444636094629_5710210803347515425_n.jpg?_nc_ht=scontent-ssn1-1.cdninstagram.com&_nc_cat=109&_nc_ohc=p6QBfn5SWvYAX_L_-K-&oh=4cd5a73dfad9a9b223c03d5ba1a2477e&oe=5F78C95C\n",
      "\n",
      "https://www.instagram.com/p/CEoXtZ5l-CY/\n",
      "https://scontent-ssn1-1.cdninstagram.com/v/t51.2885-15/sh0.08/e35/c0.180.1440.1440a/s640x640/118648054_813344936107870_2653585570428621636_n.jpg?_nc_ht=scontent-ssn1-1.cdninstagram.com&_nc_cat=110&_nc_ohc=5mNX6ukDXocAX_7X_z_&oh=16027af011d60ccd7bc1afccd16ee563&oe=5F785CE9\n",
      "\n"
     ]
    }
   ],
   "source": [
    "driver = webdriver.Chrome('C:/Users/kang9/Desktop/인스타그램/chromedriver')\n",
    "driver.get(url)\n",
    "\n",
    "time.sleep(5)\n",
    "\n",
    "html = driver.page_source\n",
    "soup=BeautifulSoup(html)\n",
    "\n",
    "insta = soup.select('.v1Nh3.kIKUG._bz0w')\n",
    "\n",
    "n=1\n",
    "for i in insta:\n",
    "    print('https://www.instagram.com'+i.a['href'])\n",
    "    imgUrl=i.select_one('.KL4Bh').img['src']\n",
    "    with urlopen(imgUrl) as f:\n",
    "        with open ('C:/Users/kang9/Desktop/인스타그램/img/'+plus_url+str(n)+'.jpg','wb') as h:\n",
    "            img=f.read()\n",
    "            h.write(img)\n",
    "    n +=1\n",
    "    print(imgUrl)\n",
    "    print()\n",
    "    \n",
    "driver.close()"
   ]
  },
  {
   "cell_type": "code",
   "execution_count": null,
   "metadata": {},
   "outputs": [],
   "source": []
  }
 ],
 "metadata": {
  "kernelspec": {
   "display_name": "Python 3",
   "language": "python",
   "name": "python3"
  },
  "language_info": {
   "codemirror_mode": {
    "name": "ipython",
    "version": 3
   },
   "file_extension": ".py",
   "mimetype": "text/x-python",
   "name": "python",
   "nbconvert_exporter": "python",
   "pygments_lexer": "ipython3",
   "version": "3.8.3"
  }
 },
 "nbformat": 4,
 "nbformat_minor": 4
}
